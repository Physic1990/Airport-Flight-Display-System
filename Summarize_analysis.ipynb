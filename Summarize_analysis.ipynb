{
  "cells": [
    {
      "cell_type": "markdown",
      "metadata": {
        "id": "view-in-github",
        "colab_type": "text"
      },
      "source": [
        "<a href=\"https://colab.research.google.com/github/Physic1990/Airport-Flight-Display-System/blob/master/Summarize_analysis.ipynb\" target=\"_parent\"><img src=\"https://colab.research.google.com/assets/colab-badge.svg\" alt=\"Open In Colab\"/></a>"
      ]
    },
    {
      "cell_type": "markdown",
      "metadata": {
        "id": "B8IR8QF-LAYM"
      },
      "source": [
        "The following code demonstrates how to use the ArcGIS API for Python in Google Colab to perform https://developers.arcgis.com/documentation/mapping-apis-and-services/spatial-analysis/tutorials/tools/summarize-data/#count-reported-incidents-of-graffiti-within-census-blocks"
      ]
    },
    {
      "cell_type": "markdown",
      "source": [
        "# Graffiti Incident Analysis in San Francisco\n",
        "This script performs spatial analysis on graffiti incident reports in San Francisco using the ArcGIS API for Python.\n",
        "\n",
        "The analysis involves two main operations:\n",
        "1. Counting the number of reported graffiti incidents within census blocks.\n",
        "2. Finding the median centers and ellipses of graffiti reports."
      ],
      "metadata": {
        "id": "ZEY7aDIxQf9B"
      }
    },
    {
      "cell_type": "markdown",
      "source": [
        "## Steps Involved:\n",
        "1. **Set Up and Authentication**:\n",
        "- Install and import necessary libraries.\n",
        "- Establish a connection to an ArcGIS Online portal.\n",
        "2. **Count Reported Incidents of Graffiti within Census Blocks**:\n",
        "- Use the Aggregate Points tool to count the number of graffiti incidents within each census block.\n",
        "- Query and print the results.\n",
        "- Prepare the results for publishing and publish them as a feature collection to ArcGIS Online.\n",
        "3. **Find the Median Centers and Ellipses of Graffiti Reports by Type**:\n",
        "- Use the Summarize Center and Dispersion tool to find the median centers and dispersion ellipses of graffiti incidents categorized by type.\n",
        "- Query and print the results.\n",
        "- Prepare the results for publishing and publish them as a feature collection to ArcGIS Online.\n",
        "## Important URLs:\n",
        "- Census Blocks Feature Layer: https://services3.arcgis.com/GVgbJbqm8hXASVYi/arcgis/rest/services/Census_blocks_in_three_neighborhoods_SF/FeatureServer/0\n",
        "\n",
        "- Graffiti Cases Feature Layer: https://services3.arcgis.com/GVgbJbqm8hXASVYi/arcgis/rest/services/Graffiti_cases_within_census_blocks/FeatureServer/0\n",
        "\n",
        "## Expected Outputs:\n",
        "- A published feature layer showing the count of reported incidents of graffiti within census blocks.\n",
        "- A published feature layer showing the median centers and dispersion ellipses of graffiti incidents by type.\n",
        "\n",
        "Let's get started with the analysis!"
      ],
      "metadata": {
        "id": "sSxFBLP0Q56j"
      }
    },
    {
      "cell_type": "code",
      "execution_count": null,
      "metadata": {
        "id": "waIZzrSk5j8i"
      },
      "outputs": [],
      "source": [
        "!pip install arcgis #Install the ArcGIS API for Python"
      ]
    },
    {
      "cell_type": "code",
      "source": [
        "!pip list #Check the installed libraries"
      ],
      "metadata": {
        "id": "A5n0JnMx6uJ3"
      },
      "execution_count": null,
      "outputs": []
    },
    {
      "cell_type": "code",
      "execution_count": null,
      "metadata": {
        "colab": {
          "base_uri": "https://localhost:8080/"
        },
        "id": "cYSv_5bv6rP6",
        "outputId": "fc294e4f-b889-4624-8c8c-fc77f1eccb66"
      },
      "outputs": [
        {
          "name": "stdout",
          "output_type": "stream",
          "text": [
            "Enter password: ··········\n"
          ]
        }
      ],
      "source": [
        "from arcgis import GIS\n",
        "\n",
        "# Establish a connection to an ArcGIS Online portal using a specified username\n",
        "portal = GIS(username=\"sniraula_arcgis_devlabs\")"
      ]
    },
    {
      "cell_type": "markdown",
      "metadata": {
        "id": "7olSOtKv8MIH"
      },
      "source": [
        "# **Count reported incidents of graffiti within census blocks**"
      ]
    },
    {
      "cell_type": "code",
      "execution_count": null,
      "metadata": {
        "id": "XgOLPbpe8GMb"
      },
      "outputs": [],
      "source": [
        "from arcgis.features.analysis import aggregate_points\n",
        "\n",
        "# URL to the census blocks feature layer\n",
        "census_blocks = \"https://services3.arcgis.com/GVgbJbqm8hXASVYi/arcgis/rest/services/Census_blocks_in_three_neighborhoods_SF/FeatureServer/0\"\n",
        "\n",
        "# URL to the graffiti cases feature layer\n",
        "graffiti = \"https://services3.arcgis.com/GVgbJbqm8hXASVYi/arcgis/rest/services/Graffiti_cases_within_census_blocks/FeatureServer/0\"\n",
        "\n",
        "# Aggregate graffiti points into census block polygons\n",
        "results = aggregate_points(\n",
        "    polygon_layer=census_blocks,               # Layer containing polygons (census blocks)\n",
        "    point_layer=graffiti,                      # Layer containing points (graffiti cases)\n",
        "    keep_boundaries_with_no_points=False,      # Exclude polygons with no points\n",
        "    output_name=\"Aggregate points\",            # Name of the output feature layer\n",
        ")"
      ]
    },
    {
      "cell_type": "code",
      "source": [
        "results.share(everyone=True)"
      ],
      "metadata": {
        "colab": {
          "base_uri": "https://localhost:8080/"
        },
        "id": "6ZACBGM-LN_O",
        "outputId": "f567f743-ea71-457a-a6ef-a595175d39c7"
      },
      "execution_count": null,
      "outputs": [
        {
          "output_type": "stream",
          "name": "stderr",
          "text": [
            "/usr/local/lib/python3.10/dist-packages/IPython/core/interactiveshell.py:3553: DeprecatedWarning: share is deprecated as of 2.3.0.1 and has be removed in 3.0.0. Use `Item.sharing` instead.\n",
            "  exec(code_obj, self.user_global_ns, self.user_ns)\n"
          ]
        },
        {
          "output_type": "execute_result",
          "data": {
            "text/plain": [
              "{'notSharedWith': [], 'itemId': '9f5fea64eda14a2883d784d7d19045d6'}"
            ]
          },
          "metadata": {},
          "execution_count": 86
        }
      ]
    },
    {
      "cell_type": "code",
      "source": [
        "# Print the URL of the output layer and the number of points aggregated\n",
        "print(f\"Output Layer homepage: {results.homepage}\")"
      ],
      "metadata": {
        "colab": {
          "base_uri": "https://localhost:8080/"
        },
        "id": "x2VzTWRCBtb1",
        "outputId": "f6f3ddd1-bb95-4bcc-ce4e-4b4e84dd09d2"
      },
      "execution_count": null,
      "outputs": [
        {
          "output_type": "stream",
          "name": "stdout",
          "text": [
            "Output Layer homepage: https://arcgis-devlabs.maps.arcgis.com/home/item.html?id=619d63aee2b44b099c7d59616bd1be75\n"
          ]
        }
      ]
    },
    {
      "cell_type": "markdown",
      "metadata": {
        "id": "ntW-sTjV81YV"
      },
      "source": [
        "# **Find the median centers of graffiti reports by type**"
      ]
    },
    {
      "cell_type": "code",
      "execution_count": null,
      "metadata": {
        "id": "SEt7voKDa9ap"
      },
      "outputs": [],
      "source": [
        "# Import necessary modules from the ArcGIS API for Python\n",
        "from arcgis.features.analysis import summarize_center_and_dispersion\n",
        "from arcgis.features import FeatureLayer\n",
        "\n",
        "# Define the input data layer\n",
        "graffiti = {\n",
        "    \"url\": \"https://services3.arcgis.com/GVgbJbqm8hXASVYi/arcgis/rest/services/Graffiti_cases_within_census_blocks/FeatureServer/0\",\n",
        "}\n",
        "\n",
        "# Perform the summarize center and dispersion analysis\n",
        "results = summarize_center_and_dispersion(\n",
        "    analysis_layer=graffiti,                 # Layer containing the points to analyze\n",
        "    summarize_type=[\"MedianCenter\", \"Ellipse\"],  # Types of summary to perform: Median Center and Dispersion Ellipse\n",
        "    ellipse_size=\"1 standard deviation\",     # Size of the ellipse representing 1 standard deviation\n",
        "    output_name=\"Summarize Center and Dispersion\",  # Name of the output feature layer\n",
        ")"
      ]
    },
    {
      "cell_type": "code",
      "execution_count": null,
      "metadata": {
        "id": "YV255Tsd9oDK"
      },
      "outputs": [],
      "source": [
        "results.share(everyone=True)"
      ]
    },
    {
      "cell_type": "code",
      "execution_count": null,
      "metadata": {
        "colab": {
          "base_uri": "https://localhost:8080/"
        },
        "id": "LQYQqHm2n9Rm",
        "outputId": "618501fd-366f-46cd-d362-0c845ab9b2ed"
      },
      "outputs": [
        {
          "output_type": "stream",
          "name": "stdout",
          "text": [
            "Output Layer homepage: https://arcgis-devlabs.maps.arcgis.com/home/item.html?id=9f5fea64eda14a2883d784d7d19045d6\n"
          ]
        }
      ],
      "source": [
        "# Print the URL of the output layer and the number of points aggregated\n",
        "print(f\"Output Layer homepage: {results.homepage}\")"
      ]
    },
    {
      "cell_type": "markdown",
      "source": [],
      "metadata": {
        "id": "bQSS_PdRAguA"
      }
    }
  ],
  "metadata": {
    "colab": {
      "provenance": [],
      "include_colab_link": true
    },
    "kernelspec": {
      "display_name": "Python 3",
      "name": "python3"
    },
    "language_info": {
      "name": "python"
    }
  },
  "nbformat": 4,
  "nbformat_minor": 0
}